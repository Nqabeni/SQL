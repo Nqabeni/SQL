{
 "cells": [
  {
   "cell_type": "markdown",
   "metadata": {},
   "source": [
    "# Neural Networks and Deep Learning Example (draft)"
   ]
  },
  {
   "cell_type": "markdown",
   "metadata": {},
   "source": [
    "### Setup"
   ]
  },
  {
   "cell_type": "markdown",
   "metadata": {},
   "source": [
    "Import Numpy package and define sigmoid functions"
   ]
  },
  {
   "cell_type": "code",
   "execution_count": 10,
   "metadata": {},
   "outputs": [],
   "source": [
    "import numpy as np\n",
    "\n",
    "def sigmoid(x):\n",
    "    return 1.0/(1 + np.exp(-x))\n",
    "\n",
    "def sigmoid_derivative(x):\n",
    "    return x * (1.0 - x)"
   ]
  },
  {
   "cell_type": "markdown",
   "metadata": {},
   "source": [
    "Create neural network class"
   ]
  },
  {
   "cell_type": "code",
   "execution_count": 3,
   "metadata": {},
   "outputs": [],
   "source": [
    "class NeuralNetwork:\n",
    "    def __init__(self, x, y):\n",
    "        self.input      = x\n",
    "        self.weights1   = np.random.rand(self.input.shape[1],4) \n",
    "        self.weights2   = np.random.rand(4,1)                 \n",
    "        self.y          = y\n",
    "        self.output     = np.zeros(y.shape)"
   ]
  },
  {
   "cell_type": "markdown",
   "metadata": {},
   "source": [
    "Explain how a 2 layer neural network works.\n",
    "\n",
    "Explain feedforward\n",
    "\n",
    "Add feedforward to Neural Network class (below)"
   ]
  },
  {
   "cell_type": "code",
   "execution_count": 4,
   "metadata": {},
   "outputs": [],
   "source": [
    "class NeuralNetwork:\n",
    "    def __init__(self, x, y):\n",
    "        self.input      = x\n",
    "        self.weights1   = np.random.rand(self.input.shape[1],4) \n",
    "        self.weights2   = np.random.rand(9,1)                 \n",
    "        self.y          = y\n",
    "        self.output     = np.zeros(y.shape)\n",
    "    def feedforward(self):\n",
    "        self.layer1 = sigmoid(np.dot(self.input, self.weights1))\n",
    "        self.output = sigmoid(np.dot(self.layer1, self.weights2))"
   ]
  },
  {
   "cell_type": "markdown",
   "metadata": {},
   "source": [
    "Explain loss function\n",
    "\n",
    "\n",
    "Explain backprop - derivatives, gradient descent, chain rule\n",
    "\n",
    "Create final Neural Network class (below)"
   ]
  },
  {
   "cell_type": "code",
   "execution_count": 5,
   "metadata": {},
   "outputs": [],
   "source": [
    "class NeuralNetwork:\n",
    "    def __init__(self, x, y):\n",
    "        self.input      = x\n",
    "        self.weights1   = np.random.rand(self.input.shape[1],9) \n",
    "        self.weights2   = np.random.rand(9,1)                 \n",
    "        self.y          = y\n",
    "        self.output     = np.zeros(y.shape)\n",
    "        \n",
    "    def feedforward(self):\n",
    "        self.layer1 = sigmoid(np.dot(self.input, self.weights1))\n",
    "        self.output = sigmoid(np.dot(self.layer1, self.weights2))\n",
    "    \n",
    "    def backprop(self):\n",
    "        # application of the chain rule to find derivative of the loss function with respect to weights2 and weights1\n",
    "        d_weights2 = np.dot(self.layer1.T, (2*(self.y - self.output) * sigmoid_derivative(self.output)))\n",
    "        d_weights1 = np.dot(self.input.T,  (np.dot(2*(self.y - self.output) * sigmoid_derivative(self.output), self.weights2.T) * sigmoid_derivative(self.layer1)))\n",
    "        # update the weights with the derivative (slope) of the loss function\n",
    "        self.weights1 += d_weights1\n",
    "        self.weights2 += d_weights2"
   ]
  },
  {
   "cell_type": "markdown",
   "metadata": {},
   "source": [
    "### Example\n",
    "\n",
    "Example setup"
   ]
  },
  {
   "cell_type": "markdown",
   "metadata": {},
   "source": [
    "Let's see if we can identify L's\n",
    "\n",
    "![All Images](./images/allimages.png)  \n",
    "\n",
    "Now turn them into 'pieces' by using gridding  \n",
    "\n",
    "Image 0\n",
    "![Image 0](./images/image0.png)  \n",
    "\n",
    "Image 1\n",
    "![Image 1](./images/image1.png)\n",
    "\n",
    "Image 2\n",
    "![Image 2](./images/image2.png)  \n",
    "\n",
    "Image 3\n",
    "![Image 3](./images/image3.png)\n",
    "\n",
    "Image 4  \n",
    "![Image 4](./images/image4.png)  \n",
    "\n",
    "Now roll them out  \n",
    "\n",
    "Image 0 roll\n",
    "![Image 0](./images/imageroll0.png)  \n",
    "This is `[0,1,0,0,1,1,0,0,0]`\n",
    "\n",
    "Image 1 roll\n",
    "![Image 1](./images/imageroll1.png)\n",
    "This is `[1,0,0,1,1,0,0,0,0]`\n",
    "\n",
    "Image 2 roll\n",
    "![Image 2](./images/imageroll2.png)  \n",
    "This is `[0,0,1,0,1,1,0,0,0]`\n",
    "\n",
    "Image 3 roll\n",
    "![Image 3](./images/imageroll3.png)\n",
    "This is `[0,0,0,0,1,0,1,1,0]`\n",
    "\n",
    "Image 4 roll  \n",
    "![Image 4](./images/imageroll4.png)  \n",
    "This is `[0,0,0,1,0,0,1,1,0]`\n",
    "\n",
    "Finally create a matrix\n",
    "![Image rolled out matrix](./images/imagerollmatrix.png)"
   ]
  },
  {
   "cell_type": "markdown",
   "metadata": {},
   "source": [
    "Turn the matrix into training values and training labels:"
   ]
  },
  {
   "cell_type": "code",
   "execution_count": 6,
   "metadata": {},
   "outputs": [
    {
     "name": "stdout",
     "output_type": "stream",
     "text": [
      "Full dataset is: \n",
      " [[0 1 0 0 1 1 0 0 0 1]\n",
      " [1 0 0 1 1 0 0 0 0 1]\n",
      " [0 0 1 0 1 1 0 0 0 0]\n",
      " [0 0 0 0 1 0 1 1 0 0]\n",
      " [0 0 0 1 0 0 1 1 0 1]]\n",
      "Training values are: \n",
      " [[0 1 0 0 1 1 0 0 0]\n",
      " [1 0 0 1 1 0 0 0 0]\n",
      " [0 0 1 0 1 1 0 0 0]\n",
      " [0 0 0 0 1 0 1 1 0]\n",
      " [0 0 0 1 0 0 1 1 0]]\n",
      "Values to be predicted are: \n",
      " [[1]\n",
      " [1]\n",
      " [0]\n",
      " [0]\n",
      " [1]]\n"
     ]
    }
   ],
   "source": [
    "dataset = [[0,1,0,0,1,1,0,0,0,1],\n",
    "          [1,0,0,1,1,0,0,0,0, 1],\n",
    "          [0,0,1,0,1,1,0,0,0, 0],\n",
    "          [0,0,0,0,1,0,1,1,0, 0],\n",
    "          [0,0,0,1,0,0,1,1,0, 1]\n",
    "          ]\n",
    "dataset = np.array(dataset)\n",
    "print('Full dataset is: \\n', dataset)\n",
    "\n",
    "X = dataset[:,:9]\n",
    "print('Training values are: \\n', X)\n",
    "\n",
    "Y = np.array([[d] for d in dataset[:,-1]])\n",
    "print('Values to be predicted are: \\n', Y)"
   ]
  },
  {
   "cell_type": "code",
   "execution_count": 7,
   "metadata": {},
   "outputs": [
    {
     "name": "stdout",
     "output_type": "stream",
     "text": [
      "<__main__.NeuralNetwork object at 0x0000022984064780>\n"
     ]
    }
   ],
   "source": [
    "nn = NeuralNetwork(X,Y)\n",
    "print(nn)"
   ]
  },
  {
   "cell_type": "code",
   "execution_count": 9,
   "metadata": {},
   "outputs": [
    {
     "name": "stdout",
     "output_type": "stream",
     "text": [
      "Predicted labels after training are: \n",
      " [[0.99492977]\n",
      " [0.99812933]\n",
      " [0.00470002]\n",
      " [0.00650533]\n",
      " [0.99468275]]\n"
     ]
    }
   ],
   "source": [
    "for i in range(1500):\n",
    "    nn.feedforward()\n",
    "    nn.backprop()\n",
    "    \n",
    "print('Predicted labels after training are: \\n',nn.output)"
   ]
  },
  {
   "cell_type": "markdown",
   "metadata": {},
   "source": [
    "Reference: [How to build your own Neural Network from scratch in Python](https://towardsdatascience.com/how-to-build-your-own-neural-network-from-scratch-in-python-68998a08e4f6)"
   ]
  }
 ],
 "metadata": {
  "kernelspec": {
   "display_name": "Python 3",
   "language": "python",
   "name": "python3"
  },
  "language_info": {
   "codemirror_mode": {
    "name": "ipython",
    "version": 3
   },
   "file_extension": ".py",
   "mimetype": "text/x-python",
   "name": "python",
   "nbconvert_exporter": "python",
   "pygments_lexer": "ipython3",
   "version": "3.7.2"
  }
 },
 "nbformat": 4,
 "nbformat_minor": 2
}
