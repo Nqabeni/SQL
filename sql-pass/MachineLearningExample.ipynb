{
    "metadata": {
        "kernelspec": {
            "name": "python3",
            "display_name": "Python 3"
        },
        "language_info": {
            "name": "python",
            "version": "3.6.6",
            "mimetype": "text/x-python",
            "codemirror_mode": {
                "name": "ipython",
                "version": 3
            },
            "pygments_lexer": "ipython3",
            "nbconvert_exporter": "python",
            "file_extension": ".py"
        }
    },
    "nbformat_minor": 2,
    "nbformat": 4,
    "cells": [
        {
            "cell_type": "markdown",
            "source": [
                "<img style=\"text-align:left;\" src=\"https://github.com/Microsoft/sqlworkshops/blob/master/graphics/solutions-microsoft-logo-small.png?raw=true\" alt=\"Microsoft\">\n",
                "<br>\n",
                "\n",
                "\n",
                "# Use regression to predict wine quality, in-database Machine Learning with SQL Server\n",
                "\n",
                "  *Note: see the sql-ml folder for sample code and instructions on how to set this up.\n",
                "  This is for learning purposes only.*\n",
                "    \n",
                "\n",
                "I will use [wine quality data set](https://archive.ics.uci.edu/ml/machine-learning-databases/wine-quality/winequality-red.csv)\n",
                "from the [UCI Machine Learning Repository](https://archive.ics.uci.edu/ml/datasets.html).  \n",
                "The dataset contains quality ratings (labels) for a 1599 red wine samples. \n",
                "The features are the wines' physical and chemical properties (11 predictors). \n",
                "We want to use these properties to predict the quality of the wine. \n",
                "\n",
                "  \n",
                "\n",
                "\n",
                "Processing the data\n",
                "-------------------\n",
                "\n",
                "Let's start with collecting and preparing the data. I've created a database called `WineQuality` within my SQL Server instance on a Linux VM. So I'll import some packages, and then connect to SQL Server.  \n",
                "\n",
                "Once we're connected, I can set the compute context to my SQL Server instance, so that no data is moved and all analysis is done within SQL Server.\n",
                ""
            ],
            "metadata": {
                "azdata_cell_guid": "cf989de8-957e-4532-a04c-07fa698218c9"
            }
        },
        {
            "cell_type": "code",
            "source": [
                "from revoscalepy import RxInSqlServer, rx_get_compute_context, rx_set_compute_context, RxLocalSeq\n",
                "import matplotlib.pyplot as plt\n",
                "import pandas\n",
                "import os\n",
                "import sys\n",
                "\n",
                "connection_string = 'Driver=ODBC Driver 17 for SQL Server;Server=Server;Database={WineQuality};UID=User;PWD=Password;'\n",
                "localcc = RxLocalSeq()\n",
                "sql_server_cc = RxInSqlServer(connection_string = connection_string)\n",
                "sql_cc = rx_set_compute_context(sql_server_cc)\n",
                "rx_set_compute_context(sql_cc)\n",
                "rx_get_compute_context()"
            ],
            "metadata": {
                "azdata_cell_guid": "ba85a610-a636-4578-90b4-5fa393a77d0b",
                "tags": [
                    "hide_input"
                ]
            },
            "outputs": [
                {
                    "output_type": "execute_result",
                    "execution_count": 23,
                    "data": {
                        "text/plain": "<revoscalepy.computecontext.RxLocalSeq.RxLocalSeq at 0x1b98d698908>"
                    },
                    "metadata": {}
                }
            ],
            "execution_count": 23
        },
        {
            "cell_type": "code",
            "source": [
                "from revoscalepy import RxLocalSeq, RxInSqlServer, rx_get_compute_context, rx_set_compute_context\n",
                "from revoscalepy import rx_exec, rx_data_step\n",
                "import matplotlib.pyplot as plt\n",
                "import pandas as pd\n",
                "import os\n",
                "import sys"
            ],
            "metadata": {
                "azdata_cell_guid": "ae0b0a41-ae4e-4e16-af43-15a0d485170f",
                "tags": [
                    "hide_input"
                ]
            },
            "outputs": [],
            "execution_count": 24
        },
        {
            "cell_type": "markdown",
            "source": [
                "## Data Exploration and Understanding\n",
                "\n",
                "You always start by looking at the data. Not just the statistics, but also visually. This isn't a data science 101 course, so I won't get into it, but I highly recommend looking into data exploration and visualization if you aren't familiar. \n",
                "\n",
                "In these first few cells, we're just looking at what the columns are, and what some typical values are for red vs. white wine."
            ],
            "metadata": {
                "azdata_cell_guid": "a2cdcc8d-d5a2-4a89-a297-e49e094b12aa"
            }
        },
        {
            "cell_type": "code",
            "source": [
                "from revoscalepy import RxSqlServerData\n",
                "\n",
                "query = \"\"\"SELECT TOP(1000) * FROM [WineQuality].[dbo].[wine_data] WHERE color = 'red'\"\"\"\n",
                "ds = RxSqlServerData(sql_query = query, connection_string = connection_string)\n",
                "red = rx_data_step(input_data = ds)\n",
                "red.head()"
            ],
            "metadata": {
                "azdata_cell_guid": "b7699e04-4381-42d9-a831-6fbc5d9eff1b"
            },
            "outputs": [
                {
                    "output_type": "stream",
                    "name": "stdout",
                    "text": "Rows Read: 1000, Total Rows Processed: 1000, Total Chunk Time: 0.022 seconds \n"
                },
                {
                    "output_type": "execute_result",
                    "execution_count": 25,
                    "data": {
                        "text/html": "<div>\n<style scoped>\n    .dataframe tbody tr th:only-of-type {\n        vertical-align: middle;\n    }\n\n    .dataframe tbody tr th {\n        vertical-align: top;\n    }\n\n    .dataframe thead th {\n        text-align: right;\n    }\n</style>\n<table border=\"1\" class=\"dataframe\">\n  <thead>\n    <tr style=\"text-align: right;\">\n      <th></th>\n      <th>facidity</th>\n      <th>vacidity</th>\n      <th>citric</th>\n      <th>sugar</th>\n      <th>chlorides</th>\n      <th>fsulfur</th>\n      <th>tsulfur</th>\n      <th>density</th>\n      <th>pH</th>\n      <th>sulphates</th>\n      <th>alcohol</th>\n      <th>quality</th>\n      <th>color</th>\n    </tr>\n  </thead>\n  <tbody>\n    <tr>\n      <th>0</th>\n      <td>7.4</td>\n      <td>0.7</td>\n      <td>0.0</td>\n      <td>1.9</td>\n      <td>0.076</td>\n      <td>11.0</td>\n      <td>34.0</td>\n      <td>0.9978</td>\n      <td>3.51</td>\n      <td>0.56</td>\n      <td>9.4</td>\n      <td>5</td>\n      <td>red</td>\n    </tr>\n    <tr>\n      <th>1</th>\n      <td>7.8</td>\n      <td>0.88</td>\n      <td>0.0</td>\n      <td>2.6</td>\n      <td>0.098</td>\n      <td>25.0</td>\n      <td>67.0</td>\n      <td>0.9968</td>\n      <td>3.2</td>\n      <td>0.68</td>\n      <td>9.8</td>\n      <td>5</td>\n      <td>red</td>\n    </tr>\n    <tr>\n      <th>2</th>\n      <td>7.8</td>\n      <td>0.76</td>\n      <td>0.04</td>\n      <td>2.3</td>\n      <td>0.092</td>\n      <td>15.0</td>\n      <td>54.0</td>\n      <td>0.997</td>\n      <td>3.26</td>\n      <td>0.65</td>\n      <td>9.8</td>\n      <td>5</td>\n      <td>red</td>\n    </tr>\n    <tr>\n      <th>3</th>\n      <td>11.2</td>\n      <td>0.28</td>\n      <td>0.56</td>\n      <td>1.9</td>\n      <td>0.075</td>\n      <td>17.0</td>\n      <td>60.0</td>\n      <td>0.998</td>\n      <td>3.16</td>\n      <td>0.58</td>\n      <td>9.8</td>\n      <td>6</td>\n      <td>red</td>\n    </tr>\n    <tr>\n      <th>4</th>\n      <td>7.4</td>\n      <td>0.7</td>\n      <td>0.0</td>\n      <td>1.9</td>\n      <td>0.076</td>\n      <td>11.0</td>\n      <td>34.0</td>\n      <td>0.9978</td>\n      <td>3.51</td>\n      <td>0.56</td>\n      <td>9.4</td>\n      <td>5</td>\n      <td>red</td>\n    </tr>\n  </tbody>\n</table>\n</div>",
                        "text/plain": "  facidity vacidity citric sugar chlorides fsulfur tsulfur density    pH  \\\n0      7.4      0.7    0.0   1.9     0.076    11.0    34.0  0.9978  3.51   \n1      7.8     0.88    0.0   2.6     0.098    25.0    67.0  0.9968   3.2   \n2      7.8     0.76   0.04   2.3     0.092    15.0    54.0   0.997  3.26   \n3     11.2     0.28   0.56   1.9     0.075    17.0    60.0   0.998  3.16   \n4      7.4      0.7    0.0   1.9     0.076    11.0    34.0  0.9978  3.51   \n\n  sulphates alcohol quality color  \n0      0.56     9.4       5   red  \n1      0.68     9.8       5   red  \n2      0.65     9.8       5   red  \n3      0.58     9.8       6   red  \n4      0.56     9.4       5   red  "
                    },
                    "metadata": {}
                }
            ],
            "execution_count": 25
        },
        {
            "cell_type": "code",
            "source": [
                "query = \"\"\"SELECT TOP(1000) *\n",
                "  FROM [WineQuality].[dbo].[wine_data] WHERE color = 'white'\"\"\"\n",
                "ds = RxSqlServerData(sql_query = query, connection_string = connection_string)\n",
                "white = rx_data_step(input_data = ds)\n",
                "white.head()"
            ],
            "metadata": {
                "scrolled": false,
                "azdata_cell_guid": "3a1382be-f1a8-4037-a815-bf2154359b10"
            },
            "outputs": [
                {
                    "output_type": "stream",
                    "name": "stdout",
                    "text": "Rows Read: 1000, Total Rows Processed: 1000, Total Chunk Time: 0.026 seconds \n"
                },
                {
                    "output_type": "execute_result",
                    "execution_count": 26,
                    "data": {
                        "text/html": "<div>\n<style scoped>\n    .dataframe tbody tr th:only-of-type {\n        vertical-align: middle;\n    }\n\n    .dataframe tbody tr th {\n        vertical-align: top;\n    }\n\n    .dataframe thead th {\n        text-align: right;\n    }\n</style>\n<table border=\"1\" class=\"dataframe\">\n  <thead>\n    <tr style=\"text-align: right;\">\n      <th></th>\n      <th>facidity</th>\n      <th>vacidity</th>\n      <th>citric</th>\n      <th>sugar</th>\n      <th>chlorides</th>\n      <th>fsulfur</th>\n      <th>tsulfur</th>\n      <th>density</th>\n      <th>pH</th>\n      <th>sulphates</th>\n      <th>alcohol</th>\n      <th>quality</th>\n      <th>color</th>\n    </tr>\n  </thead>\n  <tbody>\n    <tr>\n      <th>0</th>\n      <td>7.0</td>\n      <td>0.27</td>\n      <td>0.36</td>\n      <td>20.7</td>\n      <td>0.045</td>\n      <td>45.0</td>\n      <td>170.0</td>\n      <td>1.001</td>\n      <td>3.0</td>\n      <td>0.45</td>\n      <td>8.8</td>\n      <td>6</td>\n      <td>white</td>\n    </tr>\n    <tr>\n      <th>1</th>\n      <td>6.3</td>\n      <td>0.3</td>\n      <td>0.34</td>\n      <td>1.6</td>\n      <td>0.049</td>\n      <td>14.0</td>\n      <td>132.0</td>\n      <td>0.9940000000000001</td>\n      <td>3.3</td>\n      <td>0.49</td>\n      <td>9.5</td>\n      <td>6</td>\n      <td>white</td>\n    </tr>\n    <tr>\n      <th>2</th>\n      <td>8.1</td>\n      <td>0.28</td>\n      <td>0.4</td>\n      <td>6.9</td>\n      <td>0.05</td>\n      <td>30.0</td>\n      <td>97.0</td>\n      <td>0.9951</td>\n      <td>3.26</td>\n      <td>0.44</td>\n      <td>10.1</td>\n      <td>6</td>\n      <td>white</td>\n    </tr>\n    <tr>\n      <th>3</th>\n      <td>7.2</td>\n      <td>0.23</td>\n      <td>0.32</td>\n      <td>8.5</td>\n      <td>0.057999999999999996</td>\n      <td>47.0</td>\n      <td>186.0</td>\n      <td>0.9956</td>\n      <td>3.19</td>\n      <td>0.4</td>\n      <td>9.9</td>\n      <td>6</td>\n      <td>white</td>\n    </tr>\n    <tr>\n      <th>4</th>\n      <td>7.2</td>\n      <td>0.23</td>\n      <td>0.32</td>\n      <td>8.5</td>\n      <td>0.057999999999999996</td>\n      <td>47.0</td>\n      <td>186.0</td>\n      <td>0.9956</td>\n      <td>3.19</td>\n      <td>0.4</td>\n      <td>9.9</td>\n      <td>6</td>\n      <td>white</td>\n    </tr>\n  </tbody>\n</table>\n</div>",
                        "text/plain": "  facidity vacidity citric sugar             chlorides fsulfur tsulfur  \\\n0      7.0     0.27   0.36  20.7                 0.045    45.0   170.0   \n1      6.3      0.3   0.34   1.6                 0.049    14.0   132.0   \n2      8.1     0.28    0.4   6.9                  0.05    30.0    97.0   \n3      7.2     0.23   0.32   8.5  0.057999999999999996    47.0   186.0   \n4      7.2     0.23   0.32   8.5  0.057999999999999996    47.0   186.0   \n\n              density    pH sulphates alcohol quality  color  \n0               1.001   3.0      0.45     8.8       6  white  \n1  0.9940000000000001   3.3      0.49     9.5       6  white  \n2              0.9951  3.26      0.44    10.1       6  white  \n3              0.9956  3.19       0.4     9.9       6  white  \n4              0.9956  3.19       0.4     9.9       6  white  "
                    },
                    "metadata": {}
                }
            ],
            "execution_count": 26
        },
        {
            "cell_type": "markdown",
            "source": [
                "\n",
                "The goal is to predict the quality of the wines. Let's see how this variable is distributed."
            ],
            "metadata": {
                "azdata_cell_guid": "3bb09a58-b5a1-48c2-bcc4-1ea3d4829dde"
            }
        },
        {
            "cell_type": "code",
            "source": [
                "def compare_wines(red,white):\n",
                "    red = rx_data_step(input_data = red)\n",
                "    red = pd.to_numeric(red[\"quality\"])\n",
                "    white = rx_data_step(input_data = white)\n",
                "    white = pd.to_numeric(white[\"quality\"])\n",
                "    fig, ax = plt.subplots(1, 1)\n",
                "    ax.hist([red, white], label=[\"red\", \"white\"], alpha=0.5,\n",
                "            histtype='bar', bins=7, color=[\"red\", \"green\"])\n",
                "    ax.legend()\n",
                "    ax.set_xlabel(\"quality\")\n",
                "    ax.set_ylabel(\"# wines\")\n",
                "    return\n",
                "\n",
                "hist = rx_exec(function=compare_wines, \n",
                "               args={'red':ds_red, 'white':ds_white}, \n",
                "               compute_context = sql_cc)\n",
                "print(\"Histogram of Red and White Wine Qualities:\")"
            ],
            "metadata": {
                "scrolled": true,
                "azdata_cell_guid": "ae5d1be7-e8d7-456b-99a0-96ff915b385c"
            },
            "outputs": [
                {
                    "output_type": "stream",
                    "name": "stdout",
                    "text": "Rows Read: 1599, Total Rows Processed: 1599, Total Chunk Time: 0.005 seconds \nRows Read: 4898, Total Rows Processed: 4898, Total Chunk Time: 0.008 seconds \nHistogram of Red and White Wine Qualities:\n"
                },
                {
                    "output_type": "display_data",
                    "data": {
                        "image/png": "[encoded data removed]",
                        "text/plain": "<matplotlib.figure.Figure at 0x1b98d6f9f60>"
                    },
                    "metadata": {}
                }
            ],
            "execution_count": 8
        },
        {
            "cell_type": "markdown",
            "source": [
                "\n",
                "Predict the quality of the wine\n",
                "-------------------------------\n",
                "\n",
                "The quality is a mark between 1 and 9.\n",
                "We use a fast tree regression to predict it.\n",
                "But before anything starts, we need to split the dataset\n",
                "into train and test.\n",
                "\n",
                ""
            ],
            "metadata": {
                "azdata_cell_guid": "701c62fb-13dd-43b3-b56c-26be629639f7"
            }
        },
        {
            "cell_type": "code",
            "source": [
                "query = \"\"\"SELECT *\n",
                "  FROM [WineQuality].[dbo].[wine_data]\"\"\"\n",
                "ds = RxSqlServerData(sql_query = query, connection_string = connection_string)\n",
                "\n",
                "\n",
                "def split_data(ds):\n",
                "    try:\n",
                "        from sklearn.model_selection import train_test_split\n",
                "    except ImportError:\n",
                "        from sklearn.cross_validation import train_test_split\n",
                "    wines = rx_data_step(input_data=ds)\n",
                "    wines_train, wines_test = train_test_split(wines, train_size=.75)\n",
                "    return wines_train, wines_test\n",
                "\n",
                "split_wines = rx_exec(function=split_data, \n",
                "               args={'ds':ds}, \n",
                "               compute_context = sql_cc)\n",
                "train_data = split_wines[0][0]\n",
                "test_data = split_wines[0][1]"
            ],
            "metadata": {
                "azdata_cell_guid": "d474421d-6d8f-4c83-81d2-915c4230093e"
            },
            "outputs": [
                {
                    "output_type": "stream",
                    "name": "stdout",
                    "text": "Rows Read: 6497, Total Rows Processed: 6497, Total Chunk Time: 0.069 seconds \n"
                }
            ],
            "execution_count": 11
        },
        {
            "cell_type": "markdown",
            "source": [
                "And we train. We drop the color which is a non numerical\n",
                "features. We will add it later.\n",
                "\n"
            ],
            "metadata": {
                "azdata_cell_guid": "dd23b6ae-8aff-4d24-99a1-5a6a8cc979ec"
            }
        },
        {
            "cell_type": "code",
            "source": [
                "from microsoftml import rx_logistic_regression, rx_fast_trees\n",
                "cols = train_data.columns.drop([\"quality\", \"color\"])\n",
                "ds = train_data.drop('color',axis=1).apply(pd.to_numeric)\n",
                "model = rx_fast_trees(\"quality ~\" + \"+\".join(cols), data=ds, method=\"regression\", compute_context = sql_cc)\n"
            ],
            "metadata": {
                "azdata_cell_guid": "09b45b7e-fd24-46f0-b6fc-9b5be7474f9d"
            },
            "outputs": [
                {
                    "output_type": "stream",
                    "name": "stdout",
                    "text": "'unbalanced_sets' ignored for method 'regression'\nWarning: numpy.int64 data type is not supported. Data is converted to float64.\nNot adding a normalizer.\nMaking per-feature arrays\nChanging data from row-wise to column-wise\nBeginning processing data.\nRows Read: 4872, Read Time: 0, Transform Time: 0\nBeginning processing data.\nProcessed 4872 instances\nBinning and forming Feature objects\nReserved memory for tree learner: 277992 bytes\nStarting to train ...\nNot training a calibrator because it is not needed.\nElapsed time: 00:00:01.6747879\nElapsed time: 00:00:00.2648222\n"
                }
            ],
            "execution_count": 12
        },
        {
            "cell_type": "markdown",
            "source": [
                "Next, let's make some predictions with our tests data to see how our model does.\n",
                "\n"
            ],
            "metadata": {
                "azdata_cell_guid": "7e89cb19-a6fa-4777-bb46-5ccda45af1e5"
            }
        },
        {
            "cell_type": "code",
            "source": [
                "from microsoftml import rx_predict\n",
                "ds = test_data.drop('color',axis=1).apply(pd.to_numeric)\n",
                "pred = round(rx_predict(model = model, data = ds, extra_vars_to_write=[\"quality\"]),1)\n",
                "print(pred.head())"
            ],
            "metadata": {
                "azdata_cell_guid": "17ac16cd-4684-46ef-8199-7a52e81a5174"
            },
            "outputs": [
                {
                    "output_type": "stream",
                    "name": "stdout",
                    "text": "Warning: numpy.int64 data type is not supported. Data is converted to float64.\nBeginning processing data.\nRows Read: 1625, Read Time: 0, Transform Time: 0\nBeginning processing data.\nElapsed time: 00:00:00.3216846\nFinished writing 1625 rows.\nWriting completed.\n   quality  Score\n0      5.0    5.2\n1      5.0    5.3\n2      4.0    5.4\n3      5.0    4.6\n4      6.0    6.1\n"
                }
            ],
            "execution_count": 13
        },
        {
            "cell_type": "code",
            "source": [
                "from sklearn.metrics import r2_score\n",
                "r2 = r2_score(pred.quality, pred.Score)\n",
                "print(\"R2=\", r2)\n",
                "\n",
                "fig, ax = plt.subplots(1, 1)\n",
                "ax.scatter(x=pred.quality, y=pred.Score)\n",
                "ax.set_xlabel(\"quality\")\n",
                "ax.set_ylabel(\"prediction\")"
            ],
            "metadata": {
                "azdata_cell_guid": "b42d471d-1f34-4c52-b8e5-8cdfaca59bfd"
            },
            "outputs": [
                {
                    "output_type": "stream",
                    "name": "stdout",
                    "text": "R2= 0.424355761041\n"
                },
                {
                    "output_type": "execute_result",
                    "execution_count": 14,
                    "data": {
                        "text/plain": "<matplotlib.text.Text at 0x1b98faf9940>"
                    },
                    "metadata": {}
                },
                {
                    "output_type": "display_data",
                    "data": {
                        "image/png": "[encoded data removed]",
                        "text/plain": "<matplotlib.figure.Figure at 0x1b98d7ad9b0>"
                    },
                    "metadata": {}
                }
            ],
            "execution_count": 14
        },
        {
            "cell_type": "markdown",
            "source": [
                "Can we find a better model?\n",
                "--------------------\n",
                "\n",
                "As is standard for creating and deploying machine learning models, it's important to try several algorithms before you deploy one, to make sure you're using a model that produces the most accurate results. Here are some other built-in packages that we could try:\n",
                "\n",
                "- rx_btrees\n",
                "- rx_fast_trees\n",
                "- rx_dforest\n",
                "\n",
                "\n",
                "For the purpose of this exercise, we'll just assume this is the best model after our experimentation."
            ],
            "metadata": {
                "azdata_cell_guid": "10153998-385b-4ce3-beb5-fb12833291eb"
            }
        },
        {
            "cell_type": "markdown",
            "source": [
                "## Creating the Stored Procedure for Model Deployment\n",
                "\n",
                "Once we have a model we're satisfied with, we may want to deploy it into production in SQL Server. In order to do this, we'll need to create a Stored Procedure. \n",
                "\n",
                "Fortunately for all the non-SQL developers, there is an open-source package available `sqlmlutils` that can help transform your Python code into a format accepted by SQL Server, specifically a Stored Procedure in this use case.\n",
                "\n",
                "You can follow the instructions to install and use `sqlmlutils` in your own projects [here](https://github.com/Microsoft/sqlmlutils/tree/master/Python)."
            ],
            "metadata": {
                "azdata_cell_guid": "e39482b3-218f-4d83-96f0-737c3f9a214e"
            }
        },
        {
            "cell_type": "code",
            "source": [
                "import sqlmlutils\n",
                "import pytest\n",
                "\n",
                "def train_model_sproc():\n",
                "    import numpy\n",
                "    import pickle\n",
                "    from sklearn.linear_model import LogisticRegression\n",
                "    from revoscalepy import RxLocalSeq, RxInSqlServer, rx_get_compute_context, rx_set_compute_context\n",
                "    from revoscalepy import rx_exec, rx_data_step\n",
                "    from microsoftml import rx_logistic_regression, rx_fast_trees\n",
                "    import pandas as pd\n",
                "\n",
                "    cols = InputDataSet.columns.drop([\"quality\", \"color\"])\n",
                "    ds = InputDataSet.drop(\"color\",axis=1).apply(pd.to_numeric)\n",
                "    mod = rx_fast_trees(\"quality ~\" + \"+\".join(cols), data=ds, method=\"regression\")\n",
                "    \n",
                "    # This is the same code (above), just put into function-form with the needed packages\n",
                "    # Below, we've added a dump of the model so we can refer to it later in SQL Server\n",
                "    trained_model = pickle.dumps(mod)\n",
                "    \n",
                "\n",
                "connection = sqlmlutils.ConnectionInfo(server=\"Server\", database=\"WineQuality\",uid=\"User\",pwd=\"Password\")\n",
                "sqlpy = sqlmlutils.SQLPythonExecutor(connection)\n",
                "sp_name = \"TrainModel\"\n",
                "\n",
                "sqlpy.drop_sproc(sp_name)\n",
                "sqlpy.create_sproc_from_function(sp_name, train_model_sproc)\n"
            ],
            "metadata": {
                "azdata_cell_guid": "b2a21467-7e58-4348-8247-6c2901706ddd"
            },
            "outputs": [
                {
                    "output_type": "execute_result",
                    "execution_count": 17,
                    "data": {
                        "text/plain": "True"
                    },
                    "metadata": {}
                }
            ],
            "execution_count": 17
        }
    ]
}