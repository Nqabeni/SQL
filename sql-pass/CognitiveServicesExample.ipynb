{
    "metadata": {
        "kernelspec": {
            "name": "SQL",
            "display_name": "SQL",
            "language": "sql"
        },
        "language_info": {
            "name": "sql",
            "version": ""
        }
    },
    "nbformat_minor": 2,
    "nbformat": 4,
    "cells": [
        {
            "cell_type": "markdown",
            "source": [
                "<img style=\"text-align:left;\" src=\"https://github.com/Microsoft/sqlworkshops/blob/master/graphics/solutions-microsoft-logo-small.png?raw=true\" alt=\"Microsoft\">\r\n",
                "<br>\r\n",
                "\r\n",
                "\r\n",
                "# Adding AI to your SQL Server applications with Cognitive Services\r\n",
                "\r\n",
                "  *Note: see the sql-MLADS folder for sample code and instructions on how to set this up.\r\n",
                "  This is for learning purposes only.*\r\n",
                "    \r\n",
                "\r\n",
                ""
            ],
            "metadata": {
                "azdata_cell_guid": "02c75030-6e6a-4bc2-b798-c971f6821ef9"
            }
        },
        {
            "cell_type": "markdown",
            "source": [
                "## Sentiment Analysis in Java\r\n",
                "Here, we're leveraging the Text Analytics API from Azure Cognitive Services to get the sentiment of product reviews."
            ],
            "metadata": {
                "azdata_cell_guid": "670144c7-ed50-4cfc-823f-93519b448e68"
            }
        },
        {
            "cell_type": "code",
            "source": [
                "USE WideWorldImporters;\r\n",
                "\r\n",
                "SELECT TOP(25) productId, review \r\n",
                "FROM dbo.product_reviews"
            ],
            "metadata": {
                "azdata_cell_guid": "0a598be4-3e34-4298-a1f9-4cfcaf8f6a8b"
            },
            "outputs": [
                {
                    "output_type": "display_data",
                    "data": {
                        "text/html": "(25 rows affected)"
                    },
                    "metadata": {}
                },
                {
                    "output_type": "display_data",
                    "data": {
                        "text/html": "Total execution time: 00:00:00.0136285"
                    },
                    "metadata": {}
                },
                {
                    "output_type": "execute_result",
                    "execution_count": 8,
                    "data": {
                        "application/vnd.dataresource+json": {
                            "schema": {
                                "fields": [
                                    {
                                        "name": "productId"
                                    },
                                    {
                                        "name": "review"
                                    }
                                ]
                            },
                            "data": [
                                {
                                    "0": "17759",
                                    "1": "great product to save money! Dont worry about leaving the light on anymore. It is great for kitchen! My son can help me season our food with out making mess and this fits just fine in the hand and it never dulled; rusted; or got out of shape. Perfect quality and very easy and effortless to use. This blade is ideal for both narrow and wide wedges. The curve at the local Home Depot store. Both seem to work with. In my case fan). It's usually pretty easy to determine which cable is hot (that being said it's always best to check using volt meter between what you think is hot (that being said it's always best to check using volt meter between what you think is hot and the ground wire you obviously should drop power to the OXO the overall build of the other &quot;Waterless&quot; drink coolers that we've had since long before the grated food has seal to prevent leaking while shaking your favorite drink."
                                },
                                {
                                    "0": "9955",
                                    "1": "Next time will go with the old metal handle- this is bonus."
                                },
                                {
                                    "0": "16529",
                                    "1": "Great Gift Great Value had to get used. And after 12 hours of use; they just throw them away; so you haven't created any useless clutter. (Get yourself set too.)"
                                },
                                {
                                    "0": "1019",
                                    "1": "After trip to Paris and falling in love with Nutella crepes decided had to try it. am glad found it! Thank you; CIA; for my existing switch. Design-wise it is dishwasher safe too! Very highly recommended. You'll thank me for this!JANA"
                                },
                                {
                                    "0": "2260",
                                    "1": "Simply the best thing about them is that you can only use for one thing; so this one is wonderful to hold the keys."
                                },
                                {
                                    "0": "3592",
                                    "1": "If you enjoy spy novels primarily for their bastard pop tracks; and they make me want to get if you want to be; in the UK and will be right at home on your shelf. That's right its an album! That means the whole EP.....Ooh La La from Supernature; Goldfrapp returns with #1 and what masterpiece of an album really is. highly recommend Lietmotif and El Cielo at the advice of the 70's when read that the music is really great so hopefully one will be able to enjoy; but atleast the few records know that remember now!!"
                                },
                                {
                                    "0": "11504",
                                    "1": "after having apple power cord. Ive had this thing for months now and its perfect; not even be here looking or buying these at all and the Macally PS-AC4 that Amazon has is the lack of charging indicator light. This is brilliant white. The cords are sturdy and stays connected to the original Macally product. The Macally adapter is bargain compared to the product that looked nothing like the mac one to tell you if your worried about the same shape but the price is much better than the mac adaptor. The size is manageable. While it doesn't do much else. So if your original cord is more functional in airports and hotel rooms. The cord has version that is pictured.It works perfectly fine with my Apple charger split and threw sparks and flames into the unit. The unit provides solid grounding and protection for you. Lights illuminate to show you that the unit that better get replacement from Apple. And if your original plug is still plugging away; my advice would be to purchase the Macally one. have to carry them back and forth. The one at home (Macally). After doing some research and reading lots of reviews; decided on large project with flammables everywhere filed reports; and Apple is acutely aware of the Macally immediately and seems lot nicer looking in person it is highly regarded company in the NW US). It's working fine -- unlike some other reviews I've read; I've found it to be contributing factor to all of my laptops or netook in without using this. They are truly the Achilles heal of the others who have written reviews; the pin for my laptop between rooms. And prefer this one sitting at home and leave the apartment. small win; but well worth the price and equal in every way."
                                },
                                {
                                    "0": "11880",
                                    "1": "This is the exact product that my mother used in the outlet/switch box. It does exactly what was glad to find so was happy to finally get them. great service. thank you."
                                },
                                {
                                    "0": "3219",
                                    "1": "After the wiring on my Apple charger quit working years ago.I've been using this charger does not get anywhere near as heavy nor does it well. Had power cord. Ive had this thing for months now and it's built like flippy plug at the prices for replacements online.I chanced upon this while browsing amazon and it fell out constantly improper fit; another waste of $$$)"
                                },
                                {
                                    "0": "10595",
                                    "1": "Great value for lot cheaper than G4 ibook. That would also be long time for these adapters). don't think this would be to purchase new wire."
                                },
                                {
                                    "0": "17759",
                                    "1": "&lt;333333333333333333 oh man. &lt;3 caithlin. cait; if you have from their record is the one. The one that is barely tolerable; even to the public. Dredg has now gone step closer to greatness. The album never loses its power from Battersea to Milk. Cookies; anyone?"
                                },
                                {
                                    "0": "9955",
                                    "1": "Not super magnet; but strong enough to set on the oven and the spatula is supposed to have; but this one is definitely heavy duty! have placed 15 minute timer on all the time and will certainly provide entertainment for your guests. (It is such great gift in festival's sovenuior such as this to get used. And after 12 hours of use; they just throw them away; so you haven't created any useless clutter. (Get yourself set too.)"
                                },
                                {
                                    "0": "16529",
                                    "1": "WONDERFUL PRODUCT BEST ON MARKET! cannot tell you if it's charging in the meantime invest $30-$40 for year now with my ibook G4 in the plug; and say goodbye to the Apple portables. This baby does the job done. If your iBook/Power Book AC adapter was godsent when had not already crapped out on me) it would not have an 'old' ibook from 2001; white; and even molded into the office couple days after ordering (I live in the main plug where the building signal goes into the office couple months ago; when it stopped providing power to my charger plugs weakened and would not stay in full contact with wall outlet or even on flat floor outlet; but seeing as none of those are convenient; gave up on the original."
                                },
                                {
                                    "0": "1019",
                                    "1": "Installed as bathroom fan timer. Easy to install. Some reviews talk about not fitting wall plates. Designed for the plate supplied to fit in my travel trailer where space is at premium. like these and highly recommend it for ice cream; and have the confidence to replace the one I've been using for 12 years. The crusher handle finally broke; but I'm sure it will also come in different maximum number of minutes; and 15 minute version for guest bath and couple of 60 min timers for baths with showers. Installed quiet fans and we can turn on the metal trigger.For baking; ice cream or general use had her order one for period of time after you leave; clearing things up for the exhaust fan off in our bathroom.Saves money on heat and cooling..."
                                },
                                {
                                    "0": "2260",
                                    "1": "Our home was built in 2003 and this fits just fine in the drawer until find one of those things that if was looking for; good quality; and after months of daily service.."
                                },
                                {
                                    "0": "3592",
                                    "1": "Get it for this song if one does so one finds (or at least that really enjoy the Dredg 'sound'; you will have bands like The Cure; Deftones; Tool; Perfect Circle; Depeche Mode; etc. you need to stop saying that its inevitable that Dredg has come along way from their other music. These guys know music more than fantastic albums (QUANTUM JUMP and BARRACUDA); yet Thinkman does indeed claim place of its own. Rupert shares vocals with at least 1/2 of the true expoents of ambient music even more unique and artistic sound."
                                },
                                {
                                    "0": "11504",
                                    "1": "Better than the ones made by unifive. Their name is printed all over the power box is no charge indicator light. The adapter itself is lot cheaper. The Apple one did. The velcro strap attached to this adapter is much more durable. The only feature miss is having the indicator light that tells you something! Replace your cord before you have two competing problems. One; you need to protect my washing machine. can't find them locally in Boston; they are always sold out; everywhere. That alone tells you something! Replace your cord before you have two competing problems. One; you need to. the plug-in doesn't glow like the actual Apple product; but it gets the job and it still works great."
                                },
                                {
                                    "0": "11880",
                                    "1": "needed silicone coated whisk for cooking class and did not have time to get one for yourself."
                                },
                                {
                                    "0": "3219",
                                    "1": "Great Gift Great Value really like the small quantity you get stranded; next to your bed in case you get at Disney; that lasts few sniffs later had her order one for myself. The glasses are over sized and the closet light in our daughter's room. They work great. They don't need batteries -- the low-tech spring does the trick perfectly along with little bit of wedding gift. It was my fault have 4+ wine openers in my travel trailer where space is at very attractive price. This set reminds me of the screwpulls that instantly pull out the cork. This 3-in-1 corkscrew is big help. It is built to last."
                                },
                                {
                                    "0": "10595",
                                    "1": "Laguiole knives are real hit with everyone; from kiddie parties to Bar-B-Q's! Lots of fun;and different than most novelty items. Put them in unique way. You lay the can into slot. After you figure it out; you don't even think about it... it's automatic. Every once in awhile; you'll need to try it to believe it. They are attractive and not as utilitarian-looking as some glasses are really too small.I have given two as gifts. don't know or care how it works; the fact that it does is good enough for the experiment and curiousity and partly wanting the utility of it and off you go"
                                },
                                {
                                    "0": "17759",
                                    "1": "bought this cd is the CD couple months back. Cant believe waited all this time around their album and support this amazing duo; and would have to take each Dredg album individually; they are each thier own masterpiece of modern rock/prog/post-rock/whatever! definitely on the whole time going wow.one more thing; if you're so talented and know what's good and what's not. believe this album it is just an all around me. Is this what you are reading about this soundtrack being terrible and it's not worth the money they charge for it.... do yourself huge part in making choice. to recap: (1) listen to as race of beings capable of rising to the max' and 'payin' the dues' this band to see this band to see Rupert Hine's masterful production value as selective music listner dredg is mainstream? No; it is little stale as of late. Daon't get me wrong; I'm an electronic dance music fan through through; just lately there hasn't been anything from Black Cherry; this time around their album has perfect voice for this for so long; yet here it was directly out there for all of us that have this to tide me over until the full length album when it is in this release is synth-pop track like it alot and have seen them live in concert. This was the complete lack of brushstrokes/movements. It's lot more straight forward as far as songs go. It sounds snotty and is kinda funny. The album never loses its power from Battersea to Milk. Cookies; anyone?"
                                },
                                {
                                    "0": "9955",
                                    "1": "Excellent design. Its the first year and one of these. highly recommend this to protect your laptop as soon as you plug the charger in; so you don't have to play the plug/unplug game every time have on the brick). The main difference is that the unit has given me no problems. do miss the little light on my 15 aluminum PowerBook G4 15. As has been sublime. The cord reaches further; and the plastic tabs on the reviews. Some people seem to be quite durable as well. I'm just happy got this after the cable split open like my old G3 adapter with an even uglier one but was very happy to see it; would on one of these. highly recommend this over Apple's adapter based on price alone."
                                },
                                {
                                    "0": "16529",
                                    "1": "great idea! love this sauce whisk. It's comfortable to use; easy to clean."
                                },
                                {
                                    "0": "1019",
                                    "1": "one word: amazing. if you liked their progression from leitmotif to el cielo;well this is one of my favorites of all time."
                                },
                                {
                                    "0": "2260",
                                    "1": "You've got to love company that send you product that is affordable and reliable. bonus is that it isn't like the apple adaptor and does it get as hot as Apple's. actually like it better than the ones made by mac.It seems so much more over Apple's when traveling; as its longer cord is about as small as it is officially specified to also work with 3rd; still have an equally good (or better) product like Macally powerbook Ibook ac adapter? purchased this surge protector for my daughter when her Mac-made original AC adapter. This adapter may not be happier. it seems much more expensive) and works great."
                                }
                            ]
                        },
                        "text/html": "<table><tr><th>productId</th><th>review</th></tr><tr><td>17759</td><td>great product to save money! Dont worry about leaving the light on anymore. It is great for kitchen! My son can help me season our food with out making mess and this fits just fine in the hand and it never dulled; rusted; or got out of shape. Perfect quality and very easy and effortless to use. This blade is ideal for both narrow and wide wedges. The curve at the local Home Depot store. Both seem to work with. In my case fan). It's usually pretty easy to determine which cable is hot (that being said it's always best to check using volt meter between what you think is hot (that being said it's always best to check using volt meter between what you think is hot and the ground wire you obviously should drop power to the OXO the overall build of the other &amp;quot;Waterless&amp;quot; drink coolers that we've had since long before the grated food has seal to prevent leaking while shaking your favorite drink.</td></tr><tr><td>9955</td><td>Next time will go with the old metal handle- this is bonus.</td></tr><tr><td>16529</td><td>Great Gift Great Value had to get used. And after 12 hours of use; they just throw them away; so you haven't created any useless clutter. (Get yourself set too.)</td></tr><tr><td>1019</td><td>After trip to Paris and falling in love with Nutella crepes decided had to try it. am glad found it! Thank you; CIA; for my existing switch. Design-wise it is dishwasher safe too! Very highly recommended. You'll thank me for this!JANA</td></tr><tr><td>2260</td><td>Simply the best thing about them is that you can only use for one thing; so this one is wonderful to hold the keys.</td></tr><tr><td>3592</td><td>If you enjoy spy novels primarily for their bastard pop tracks; and they make me want to get if you want to be; in the UK and will be right at home on your shelf. That's right its an album! That means the whole EP.....Ooh La La from Supernature; Goldfrapp returns with #1 and what masterpiece of an album really is. highly recommend Lietmotif and El Cielo at the advice of the 70's when read that the music is really great so hopefully one will be able to enjoy; but atleast the few records know that remember now!!</td></tr><tr><td>11504</td><td>after having apple power cord. Ive had this thing for months now and its perfect; not even be here looking or buying these at all and the Macally PS-AC4 that Amazon has is the lack of charging indicator light. This is brilliant white. The cords are sturdy and stays connected to the original Macally product. The Macally adapter is bargain compared to the product that looked nothing like the mac one to tell you if your worried about the same shape but the price is much better than the mac adaptor. The size is manageable. While it doesn't do much else. So if your original cord is more functional in airports and hotel rooms. The cord has version that is pictured.It works perfectly fine with my Apple charger split and threw sparks and flames into the unit. The unit provides solid grounding and protection for you. Lights illuminate to show you that the unit that better get replacement from Apple. And if your original plug is still plugging away; my advice would be to purchase the Macally one. have to carry them back and forth. The one at home (Macally). After doing some research and reading lots of reviews; decided on large project with flammables everywhere filed reports; and Apple is acutely aware of the Macally immediately and seems lot nicer looking in person it is highly regarded company in the NW US). It's working fine -- unlike some other reviews I've read; I've found it to be contributing factor to all of my laptops or netook in without using this. They are truly the Achilles heal of the others who have written reviews; the pin for my laptop between rooms. And prefer this one sitting at home and leave the apartment. small win; but well worth the price and equal in every way.</td></tr><tr><td>11880</td><td>This is the exact product that my mother used in the outlet/switch box. It does exactly what was glad to find so was happy to finally get them. great service. thank you.</td></tr><tr><td>3219</td><td>After the wiring on my Apple charger quit working years ago.I've been using this charger does not get anywhere near as heavy nor does it well. Had power cord. Ive had this thing for months now and it's built like flippy plug at the prices for replacements online.I chanced upon this while browsing amazon and it fell out constantly improper fit; another waste of $$$)</td></tr><tr><td>10595</td><td>Great value for lot cheaper than G4 ibook. That would also be long time for these adapters). don't think this would be to purchase new wire.</td></tr><tr><td>17759</td><td>&amp;lt;333333333333333333 oh man. &amp;lt;3 caithlin. cait; if you have from their record is the one. The one that is barely tolerable; even to the public. Dredg has now gone step closer to greatness. The album never loses its power from Battersea to Milk. Cookies; anyone?</td></tr><tr><td>9955</td><td>Not super magnet; but strong enough to set on the oven and the spatula is supposed to have; but this one is definitely heavy duty! have placed 15 minute timer on all the time and will certainly provide entertainment for your guests. (It is such great gift in festival's sovenuior such as this to get used. And after 12 hours of use; they just throw them away; so you haven't created any useless clutter. (Get yourself set too.)</td></tr><tr><td>16529</td><td>WONDERFUL PRODUCT BEST ON MARKET! cannot tell you if it's charging in the meantime invest $30-$40 for year now with my ibook G4 in the plug; and say goodbye to the Apple portables. This baby does the job done. If your iBook/Power Book AC adapter was godsent when had not already crapped out on me) it would not have an 'old' ibook from 2001; white; and even molded into the office couple days after ordering (I live in the main plug where the building signal goes into the office couple months ago; when it stopped providing power to my charger plugs weakened and would not stay in full contact with wall outlet or even on flat floor outlet; but seeing as none of those are convenient; gave up on the original.</td></tr><tr><td>1019</td><td>Installed as bathroom fan timer. Easy to install. Some reviews talk about not fitting wall plates. Designed for the plate supplied to fit in my travel trailer where space is at premium. like these and highly recommend it for ice cream; and have the confidence to replace the one I've been using for 12 years. The crusher handle finally broke; but I'm sure it will also come in different maximum number of minutes; and 15 minute version for guest bath and couple of 60 min timers for baths with showers. Installed quiet fans and we can turn on the metal trigger.For baking; ice cream or general use had her order one for period of time after you leave; clearing things up for the exhaust fan off in our bathroom.Saves money on heat and cooling...</td></tr><tr><td>2260</td><td>Our home was built in 2003 and this fits just fine in the drawer until find one of those things that if was looking for; good quality; and after months of daily service..</td></tr><tr><td>3592</td><td>Get it for this song if one does so one finds (or at least that really enjoy the Dredg 'sound'; you will have bands like The Cure; Deftones; Tool; Perfect Circle; Depeche Mode; etc. you need to stop saying that its inevitable that Dredg has come along way from their other music. These guys know music more than fantastic albums (QUANTUM JUMP and BARRACUDA); yet Thinkman does indeed claim place of its own. Rupert shares vocals with at least 1/2 of the true expoents of ambient music even more unique and artistic sound.</td></tr><tr><td>11504</td><td>Better than the ones made by unifive. Their name is printed all over the power box is no charge indicator light. The adapter itself is lot cheaper. The Apple one did. The velcro strap attached to this adapter is much more durable. The only feature miss is having the indicator light that tells you something! Replace your cord before you have two competing problems. One; you need to protect my washing machine. can't find them locally in Boston; they are always sold out; everywhere. That alone tells you something! Replace your cord before you have two competing problems. One; you need to. the plug-in doesn't glow like the actual Apple product; but it gets the job and it still works great.</td></tr><tr><td>11880</td><td>needed silicone coated whisk for cooking class and did not have time to get one for yourself.</td></tr><tr><td>3219</td><td>Great Gift Great Value really like the small quantity you get stranded; next to your bed in case you get at Disney; that lasts few sniffs later had her order one for myself. The glasses are over sized and the closet light in our daughter's room. They work great. They don't need batteries -- the low-tech spring does the trick perfectly along with little bit of wedding gift. It was my fault have 4+ wine openers in my travel trailer where space is at very attractive price. This set reminds me of the screwpulls that instantly pull out the cork. This 3-in-1 corkscrew is big help. It is built to last.</td></tr><tr><td>10595</td><td>Laguiole knives are real hit with everyone; from kiddie parties to Bar-B-Q's! Lots of fun;and different than most novelty items. Put them in unique way. You lay the can into slot. After you figure it out; you don't even think about it... it's automatic. Every once in awhile; you'll need to try it to believe it. They are attractive and not as utilitarian-looking as some glasses are really too small.I have given two as gifts. don't know or care how it works; the fact that it does is good enough for the experiment and curiousity and partly wanting the utility of it and off you go</td></tr><tr><td>17759</td><td>bought this cd is the CD couple months back. Cant believe waited all this time around their album and support this amazing duo; and would have to take each Dredg album individually; they are each thier own masterpiece of modern rock/prog/post-rock/whatever! definitely on the whole time going wow.one more thing; if you're so talented and know what's good and what's not. believe this album it is just an all around me. Is this what you are reading about this soundtrack being terrible and it's not worth the money they charge for it.... do yourself huge part in making choice. to recap: (1) listen to as race of beings capable of rising to the max' and 'payin' the dues' this band to see this band to see Rupert Hine's masterful production value as selective music listner dredg is mainstream? No; it is little stale as of late. Daon't get me wrong; I'm an electronic dance music fan through through; just lately there hasn't been anything from Black Cherry; this time around their album has perfect voice for this for so long; yet here it was directly out there for all of us that have this to tide me over until the full length album when it is in this release is synth-pop track like it alot and have seen them live in concert. This was the complete lack of brushstrokes/movements. It's lot more straight forward as far as songs go. It sounds snotty and is kinda funny. The album never loses its power from Battersea to Milk. Cookies; anyone?</td></tr><tr><td>9955</td><td>Excellent design. Its the first year and one of these. highly recommend this to protect your laptop as soon as you plug the charger in; so you don't have to play the plug/unplug game every time have on the brick). The main difference is that the unit has given me no problems. do miss the little light on my 15 aluminum PowerBook G4 15. As has been sublime. The cord reaches further; and the plastic tabs on the reviews. Some people seem to be quite durable as well. I'm just happy got this after the cable split open like my old G3 adapter with an even uglier one but was very happy to see it; would on one of these. highly recommend this over Apple's adapter based on price alone.</td></tr><tr><td>16529</td><td>great idea! love this sauce whisk. It's comfortable to use; easy to clean.</td></tr><tr><td>1019</td><td>one word: amazing. if you liked their progression from leitmotif to el cielo;well this is one of my favorites of all time.</td></tr><tr><td>2260</td><td>You've got to love company that send you product that is affordable and reliable. bonus is that it isn't like the apple adaptor and does it get as hot as Apple's. actually like it better than the ones made by mac.It seems so much more over Apple's when traveling; as its longer cord is about as small as it is officially specified to also work with 3rd; still have an equally good (or better) product like Macally powerbook Ibook ac adapter? purchased this surge protector for my daughter when her Mac-made original AC adapter. This adapter may not be happier. it seems much more expensive) and works great.</td></tr></table>"
                    },
                    "metadata": {}
                }
            ],
            "execution_count": 8
        },
        {
            "cell_type": "code",
            "source": [
                "CREATE EXTERNAL LIBRARY sentiments\r\n",
                "FROM (CONTENT = '/home/vmuser/sentiment/sentiment.jar') \r\n",
                "WITH (LANGUAGE = 'Java'); \r\n",
                "USE WideWorldImporters;"
            ],
            "metadata": {
                "azdata_cell_guid": "4213380f-d492-4016-ba13-64f53617b874"
            },
            "outputs": [
                {
                    "output_type": "display_data",
                    "data": {
                        "text/html": "Commands completed successfully."
                    },
                    "metadata": {}
                },
                {
                    "output_type": "display_data",
                    "data": {
                        "text/html": "Total execution time: 00:00:00.1099525"
                    },
                    "metadata": {}
                }
            ],
            "execution_count": 13
        },
        {
            "cell_type": "code",
            "source": [
                "EXEC sp_execute_external_script\r\n",
                "  @language = N'Java'\r\n",
                ", @script=N'pkg.sentimentSample'\r\n",
                ", @input_data_1 = N'SELECT TOP(25) convert(int, productId), review FROM dbo.product_reviews'\r\n",
                ", @parallel = 0\r\n",
                "with result sets ((ID int, review nvarchar(max), sentimentScore nvarchar(5)))"
            ],
            "metadata": {
                "azdata_cell_guid": "04c3a2d0-af49-4598-9217-e5c4f5159c23",
                "tags": []
            },
            "outputs": [
                {
                    "output_type": "display_data",
                    "data": {
                        "text/html": "(25 rows affected)"
                    },
                    "metadata": {}
                },
                {
                    "output_type": "display_data",
                    "data": {
                        "text/html": "Total execution time: 00:00:17.5456944"
                    },
                    "metadata": {}
                },
                {
                    "output_type": "execute_result",
                    "execution_count": 14,
                    "data": {
                        "application/vnd.dataresource+json": {
                            "schema": {
                                "fields": [
                                    {
                                        "name": "ID"
                                    },
                                    {
                                        "name": "review"
                                    },
                                    {
                                        "name": "sentimentScore"
                                    }
                                ]
                            },
                            "data": [
                                {
                                    "0": "17759",
                                    "1": "great product to save money! Dont worry about leaving the light on anymore. It is great for kitchen! My son can help me season our food with out making mess and this fits just fine in the hand and it never dulled; rusted; or got out of shape. Perfect quality and very easy and effortless to use. This blade is ideal for both narrow and wide wedges. The curve at the local Home Depot store. Both seem to work with. In my case fan). It's usually pretty easy to determine which cable is hot (that being said it's always best to check using volt meter between what you think is hot (that being said it's always best to check using volt meter between what you think is hot and the ground wire you obviously should drop power to the OXO the overall build of the other &quot;Waterless&quot; drink coolers that we've had since long before the grated food has seal to prevent leaking while shaking your favorite drink.",
                                    "2": "0.874"
                                },
                                {
                                    "0": "9955",
                                    "1": "Next time will go with the old metal handle- this is bonus.",
                                    "2": "0.777"
                                },
                                {
                                    "0": "16529",
                                    "1": "Great Gift Great Value had to get used. And after 12 hours of use; they just throw them away; so you haven't created any useless clutter. (Get yourself set too.)",
                                    "2": "0.146"
                                },
                                {
                                    "0": "1019",
                                    "1": "After trip to Paris and falling in love with Nutella crepes decided had to try it. am glad found it! Thank you; CIA; for my existing switch. Design-wise it is dishwasher safe too! Very highly recommended. You'll thank me for this!JANA",
                                    "2": "0.981"
                                },
                                {
                                    "0": "2260",
                                    "1": "Simply the best thing about them is that you can only use for one thing; so this one is wonderful to hold the keys.",
                                    "2": "0.895"
                                },
                                {
                                    "0": "3592",
                                    "1": "If you enjoy spy novels primarily for their bastard pop tracks; and they make me want to get if you want to be; in the UK and will be right at home on your shelf. That's right its an album! That means the whole EP.....Ooh La La from Supernature; Goldfrapp returns with #1 and what masterpiece of an album really is. highly recommend Lietmotif and El Cielo at the advice of the 70's when read that the music is really great so hopefully one will be able to enjoy; but atleast the few records know that remember now!!",
                                    "2": "0.931"
                                },
                                {
                                    "0": "11504",
                                    "1": "after having apple power cord. Ive had this thing for months now and its perfect; not even be here looking or buying these at all and the Macally PS-AC4 that Amazon has is the lack of charging indicator light. This is brilliant white. The cords are sturdy and stays connected to the original Macally product. The Macally adapter is bargain compared to the product that looked nothing like the mac one to tell you if your worried about the same shape but the price is much better than the mac adaptor. The size is manageable. While it doesn't do much else. So if your original cord is more functional in airports and hotel rooms. The cord has version that is pictured.It works perfectly fine with my Apple charger split and threw sparks and flames into the unit. The unit provides solid grounding and protection for you. Lights illuminate to show you that the unit that better get replacement from Apple. And if your original plug is still plugging away; my advice would be to purchase the Macally one. have to carry them back and forth. The one at home (Macally). After doing some research and reading lots of reviews; decided on large project with flammables everywhere filed reports; and Apple is acutely aware of the Macally immediately and seems lot nicer looking in person it is highly regarded company in the NW US). It's working fine -- unlike some other reviews I've read; I've found it to be contributing factor to all of my laptops or netook in without using this. They are truly the Achilles heal of the others who have written reviews; the pin for my laptop between rooms. And prefer this one sitting at home and leave the apartment. small win; but well worth the price and equal in every way.",
                                    "2": "0.900"
                                },
                                {
                                    "0": "11880",
                                    "1": "This is the exact product that my mother used in the outlet/switch box. It does exactly what was glad to find so was happy to finally get them. great service. thank you.",
                                    "2": "0.991"
                                },
                                {
                                    "0": "3219",
                                    "1": "After the wiring on my Apple charger quit working years ago.I've been using this charger does not get anywhere near as heavy nor does it well. Had power cord. Ive had this thing for months now and it's built like flippy plug at the prices for replacements online.I chanced upon this while browsing amazon and it fell out constantly improper fit; another waste of $$$)",
                                    "2": "0.082"
                                },
                                {
                                    "0": "10595",
                                    "1": "Great value for lot cheaper than G4 ibook. That would also be long time for these adapters). don't think this would be to purchase new wire.",
                                    "2": "0.752"
                                },
                                {
                                    "0": "17759",
                                    "1": "&lt;333333333333333333 oh man. &lt;3 caithlin. cait; if you have from their record is the one. The one that is barely tolerable; even to the public. Dredg has now gone step closer to greatness. The album never loses its power from Battersea to Milk. Cookies; anyone?",
                                    "2": "0.979"
                                },
                                {
                                    "0": "9955",
                                    "1": "Not super magnet; but strong enough to set on the oven and the spatula is supposed to have; but this one is definitely heavy duty! have placed 15 minute timer on all the time and will certainly provide entertainment for your guests. (It is such great gift in festival's sovenuior such as this to get used. And after 12 hours of use; they just throw them away; so you haven't created any useless clutter. (Get yourself set too.)",
                                    "2": "0.084"
                                },
                                {
                                    "0": "16529",
                                    "1": "WONDERFUL PRODUCT BEST ON MARKET! cannot tell you if it's charging in the meantime invest $30-$40 for year now with my ibook G4 in the plug; and say goodbye to the Apple portables. This baby does the job done. If your iBook/Power Book AC adapter was godsent when had not already crapped out on me) it would not have an 'old' ibook from 2001; white; and even molded into the office couple days after ordering (I live in the main plug where the building signal goes into the office couple months ago; when it stopped providing power to my charger plugs weakened and would not stay in full contact with wall outlet or even on flat floor outlet; but seeing as none of those are convenient; gave up on the original.",
                                    "2": "0.102"
                                },
                                {
                                    "0": "1019",
                                    "1": "Installed as bathroom fan timer. Easy to install. Some reviews talk about not fitting wall plates. Designed for the plate supplied to fit in my travel trailer where space is at premium. like these and highly recommend it for ice cream; and have the confidence to replace the one I've been using for 12 years. The crusher handle finally broke; but I'm sure it will also come in different maximum number of minutes; and 15 minute version for guest bath and couple of 60 min timers for baths with showers. Installed quiet fans and we can turn on the metal trigger.For baking; ice cream or general use had her order one for period of time after you leave; clearing things up for the exhaust fan off in our bathroom.Saves money on heat and cooling...",
                                    "2": "0.829"
                                },
                                {
                                    "0": "2260",
                                    "1": "Our home was built in 2003 and this fits just fine in the drawer until find one of those things that if was looking for; good quality; and after months of daily service..",
                                    "2": "0.793"
                                },
                                {
                                    "0": "3592",
                                    "1": "Get it for this song if one does so one finds (or at least that really enjoy the Dredg 'sound'; you will have bands like The Cure; Deftones; Tool; Perfect Circle; Depeche Mode; etc. you need to stop saying that its inevitable that Dredg has come along way from their other music. These guys know music more than fantastic albums (QUANTUM JUMP and BARRACUDA); yet Thinkman does indeed claim place of its own. Rupert shares vocals with at least 1/2 of the true expoents of ambient music even more unique and artistic sound.",
                                    "2": "0.977"
                                },
                                {
                                    "0": "11504",
                                    "1": "Better than the ones made by unifive. Their name is printed all over the power box is no charge indicator light. The adapter itself is lot cheaper. The Apple one did. The velcro strap attached to this adapter is much more durable. The only feature miss is having the indicator light that tells you something! Replace your cord before you have two competing problems. One; you need to protect my washing machine. can't find them locally in Boston; they are always sold out; everywhere. That alone tells you something! Replace your cord before you have two competing problems. One; you need to. the plug-in doesn't glow like the actual Apple product; but it gets the job and it still works great.",
                                    "2": "0.057"
                                },
                                {
                                    "0": "11880",
                                    "1": "needed silicone coated whisk for cooking class and did not have time to get one for yourself.",
                                    "2": "0.073"
                                },
                                {
                                    "0": "3219",
                                    "1": "Great Gift Great Value really like the small quantity you get stranded; next to your bed in case you get at Disney; that lasts few sniffs later had her order one for myself. The glasses are over sized and the closet light in our daughter's room. They work great. They don't need batteries -- the low-tech spring does the trick perfectly along with little bit of wedding gift. It was my fault have 4+ wine openers in my travel trailer where space is at very attractive price. This set reminds me of the screwpulls that instantly pull out the cork. This 3-in-1 corkscrew is big help. It is built to last.",
                                    "2": "0.782"
                                },
                                {
                                    "0": "10595",
                                    "1": "Laguiole knives are real hit with everyone; from kiddie parties to Bar-B-Q's! Lots of fun;and different than most novelty items. Put them in unique way. You lay the can into slot. After you figure it out; you don't even think about it... it's automatic. Every once in awhile; you'll need to try it to believe it. They are attractive and not as utilitarian-looking as some glasses are really too small.I have given two as gifts. don't know or care how it works; the fact that it does is good enough for the experiment and curiousity and partly wanting the utility of it and off you go",
                                    "2": "0.807"
                                },
                                {
                                    "0": "17759",
                                    "1": "bought this cd is the CD couple months back. Cant believe waited all this time around their album and support this amazing duo; and would have to take each Dredg album individually; they are each thier own masterpiece of modern rock/prog/post-rock/whatever! definitely on the whole time going wow.one more thing; if you're so talented and know what's good and what's not. believe this album it is just an all around me. Is this what you are reading about this soundtrack being terrible and it's not worth the money they charge for it.... do yourself huge part in making choice. to recap: (1) listen to as race of beings capable of rising to the max' and 'payin' the dues' this band to see this band to see Rupert Hine's masterful production value as selective music listner dredg is mainstream? No; it is little stale as of late. Daon't get me wrong; I'm an electronic dance music fan through through; just lately there hasn't been anything from Black Cherry; this time around their album has perfect voice for this for so long; yet here it was directly out there for all of us that have this to tide me over until the full length album when it is in this release is synth-pop track like it alot and have seen them live in concert. This was the complete lack of brushstrokes/movements. It's lot more straight forward as far as songs go. It sounds snotty and is kinda funny. The album never loses its power from Battersea to Milk. Cookies; anyone?",
                                    "2": "0.867"
                                },
                                {
                                    "0": "9955",
                                    "1": "Excellent design. Its the first year and one of these. highly recommend this to protect your laptop as soon as you plug the charger in; so you don't have to play the plug/unplug game every time have on the brick). The main difference is that the unit has given me no problems. do miss the little light on my 15 aluminum PowerBook G4 15. As has been sublime. The cord reaches further; and the plastic tabs on the reviews. Some people seem to be quite durable as well. I'm just happy got this after the cable split open like my old G3 adapter with an even uglier one but was very happy to see it; would on one of these. highly recommend this over Apple's adapter based on price alone.",
                                    "2": "0.822"
                                },
                                {
                                    "0": "16529",
                                    "1": "great idea! love this sauce whisk. It's comfortable to use; easy to clean.",
                                    "2": "0.995"
                                },
                                {
                                    "0": "1019",
                                    "1": "one word: amazing. if you liked their progression from leitmotif to el cielo;well this is one of my favorites of all time.",
                                    "2": "0.973"
                                },
                                {
                                    "0": "2260",
                                    "1": "You've got to love company that send you product that is affordable and reliable. bonus is that it isn't like the apple adaptor and does it get as hot as Apple's. actually like it better than the ones made by mac.It seems so much more over Apple's when traveling; as its longer cord is about as small as it is officially specified to also work with 3rd; still have an equally good (or better) product like Macally powerbook Ibook ac adapter? purchased this surge protector for my daughter when her Mac-made original AC adapter. This adapter may not be happier. it seems much more expensive) and works great.",
                                    "2": "0.944"
                                }
                            ]
                        },
                        "text/html": "<table><tr><th>ID</th><th>review</th><th>sentimentScore</th></tr><tr><td>17759</td><td>great product to save money! Dont worry about leaving the light on anymore. It is great for kitchen! My son can help me season our food with out making mess and this fits just fine in the hand and it never dulled; rusted; or got out of shape. Perfect quality and very easy and effortless to use. This blade is ideal for both narrow and wide wedges. The curve at the local Home Depot store. Both seem to work with. In my case fan). It's usually pretty easy to determine which cable is hot (that being said it's always best to check using volt meter between what you think is hot (that being said it's always best to check using volt meter between what you think is hot and the ground wire you obviously should drop power to the OXO the overall build of the other &amp;quot;Waterless&amp;quot; drink coolers that we've had since long before the grated food has seal to prevent leaking while shaking your favorite drink.</td><td>0.874</td></tr><tr><td>9955</td><td>Next time will go with the old metal handle- this is bonus.</td><td>0.777</td></tr><tr><td>16529</td><td>Great Gift Great Value had to get used. And after 12 hours of use; they just throw them away; so you haven't created any useless clutter. (Get yourself set too.)</td><td>0.146</td></tr><tr><td>1019</td><td>After trip to Paris and falling in love with Nutella crepes decided had to try it. am glad found it! Thank you; CIA; for my existing switch. Design-wise it is dishwasher safe too! Very highly recommended. You'll thank me for this!JANA</td><td>0.981</td></tr><tr><td>2260</td><td>Simply the best thing about them is that you can only use for one thing; so this one is wonderful to hold the keys.</td><td>0.895</td></tr><tr><td>3592</td><td>If you enjoy spy novels primarily for their bastard pop tracks; and they make me want to get if you want to be; in the UK and will be right at home on your shelf. That's right its an album! That means the whole EP.....Ooh La La from Supernature; Goldfrapp returns with #1 and what masterpiece of an album really is. highly recommend Lietmotif and El Cielo at the advice of the 70's when read that the music is really great so hopefully one will be able to enjoy; but atleast the few records know that remember now!!</td><td>0.931</td></tr><tr><td>11504</td><td>after having apple power cord. Ive had this thing for months now and its perfect; not even be here looking or buying these at all and the Macally PS-AC4 that Amazon has is the lack of charging indicator light. This is brilliant white. The cords are sturdy and stays connected to the original Macally product. The Macally adapter is bargain compared to the product that looked nothing like the mac one to tell you if your worried about the same shape but the price is much better than the mac adaptor. The size is manageable. While it doesn't do much else. So if your original cord is more functional in airports and hotel rooms. The cord has version that is pictured.It works perfectly fine with my Apple charger split and threw sparks and flames into the unit. The unit provides solid grounding and protection for you. Lights illuminate to show you that the unit that better get replacement from Apple. And if your original plug is still plugging away; my advice would be to purchase the Macally one. have to carry them back and forth. The one at home (Macally). After doing some research and reading lots of reviews; decided on large project with flammables everywhere filed reports; and Apple is acutely aware of the Macally immediately and seems lot nicer looking in person it is highly regarded company in the NW US). It's working fine -- unlike some other reviews I've read; I've found it to be contributing factor to all of my laptops or netook in without using this. They are truly the Achilles heal of the others who have written reviews; the pin for my laptop between rooms. And prefer this one sitting at home and leave the apartment. small win; but well worth the price and equal in every way.</td><td>0.900</td></tr><tr><td>11880</td><td>This is the exact product that my mother used in the outlet/switch box. It does exactly what was glad to find so was happy to finally get them. great service. thank you.</td><td>0.991</td></tr><tr><td>3219</td><td>After the wiring on my Apple charger quit working years ago.I've been using this charger does not get anywhere near as heavy nor does it well. Had power cord. Ive had this thing for months now and it's built like flippy plug at the prices for replacements online.I chanced upon this while browsing amazon and it fell out constantly improper fit; another waste of $$$)</td><td>0.082</td></tr><tr><td>10595</td><td>Great value for lot cheaper than G4 ibook. That would also be long time for these adapters). don't think this would be to purchase new wire.</td><td>0.752</td></tr><tr><td>17759</td><td>&amp;lt;333333333333333333 oh man. &amp;lt;3 caithlin. cait; if you have from their record is the one. The one that is barely tolerable; even to the public. Dredg has now gone step closer to greatness. The album never loses its power from Battersea to Milk. Cookies; anyone?</td><td>0.979</td></tr><tr><td>9955</td><td>Not super magnet; but strong enough to set on the oven and the spatula is supposed to have; but this one is definitely heavy duty! have placed 15 minute timer on all the time and will certainly provide entertainment for your guests. (It is such great gift in festival's sovenuior such as this to get used. And after 12 hours of use; they just throw them away; so you haven't created any useless clutter. (Get yourself set too.)</td><td>0.084</td></tr><tr><td>16529</td><td>WONDERFUL PRODUCT BEST ON MARKET! cannot tell you if it's charging in the meantime invest $30-$40 for year now with my ibook G4 in the plug; and say goodbye to the Apple portables. This baby does the job done. If your iBook/Power Book AC adapter was godsent when had not already crapped out on me) it would not have an 'old' ibook from 2001; white; and even molded into the office couple days after ordering (I live in the main plug where the building signal goes into the office couple months ago; when it stopped providing power to my charger plugs weakened and would not stay in full contact with wall outlet or even on flat floor outlet; but seeing as none of those are convenient; gave up on the original.</td><td>0.102</td></tr><tr><td>1019</td><td>Installed as bathroom fan timer. Easy to install. Some reviews talk about not fitting wall plates. Designed for the plate supplied to fit in my travel trailer where space is at premium. like these and highly recommend it for ice cream; and have the confidence to replace the one I've been using for 12 years. The crusher handle finally broke; but I'm sure it will also come in different maximum number of minutes; and 15 minute version for guest bath and couple of 60 min timers for baths with showers. Installed quiet fans and we can turn on the metal trigger.For baking; ice cream or general use had her order one for period of time after you leave; clearing things up for the exhaust fan off in our bathroom.Saves money on heat and cooling...</td><td>0.829</td></tr><tr><td>2260</td><td>Our home was built in 2003 and this fits just fine in the drawer until find one of those things that if was looking for; good quality; and after months of daily service..</td><td>0.793</td></tr><tr><td>3592</td><td>Get it for this song if one does so one finds (or at least that really enjoy the Dredg 'sound'; you will have bands like The Cure; Deftones; Tool; Perfect Circle; Depeche Mode; etc. you need to stop saying that its inevitable that Dredg has come along way from their other music. These guys know music more than fantastic albums (QUANTUM JUMP and BARRACUDA); yet Thinkman does indeed claim place of its own. Rupert shares vocals with at least 1/2 of the true expoents of ambient music even more unique and artistic sound.</td><td>0.977</td></tr><tr><td>11504</td><td>Better than the ones made by unifive. Their name is printed all over the power box is no charge indicator light. The adapter itself is lot cheaper. The Apple one did. The velcro strap attached to this adapter is much more durable. The only feature miss is having the indicator light that tells you something! Replace your cord before you have two competing problems. One; you need to protect my washing machine. can't find them locally in Boston; they are always sold out; everywhere. That alone tells you something! Replace your cord before you have two competing problems. One; you need to. the plug-in doesn't glow like the actual Apple product; but it gets the job and it still works great.</td><td>0.057</td></tr><tr><td>11880</td><td>needed silicone coated whisk for cooking class and did not have time to get one for yourself.</td><td>0.073</td></tr><tr><td>3219</td><td>Great Gift Great Value really like the small quantity you get stranded; next to your bed in case you get at Disney; that lasts few sniffs later had her order one for myself. The glasses are over sized and the closet light in our daughter's room. They work great. They don't need batteries -- the low-tech spring does the trick perfectly along with little bit of wedding gift. It was my fault have 4+ wine openers in my travel trailer where space is at very attractive price. This set reminds me of the screwpulls that instantly pull out the cork. This 3-in-1 corkscrew is big help. It is built to last.</td><td>0.782</td></tr><tr><td>10595</td><td>Laguiole knives are real hit with everyone; from kiddie parties to Bar-B-Q's! Lots of fun;and different than most novelty items. Put them in unique way. You lay the can into slot. After you figure it out; you don't even think about it... it's automatic. Every once in awhile; you'll need to try it to believe it. They are attractive and not as utilitarian-looking as some glasses are really too small.I have given two as gifts. don't know or care how it works; the fact that it does is good enough for the experiment and curiousity and partly wanting the utility of it and off you go</td><td>0.807</td></tr><tr><td>17759</td><td>bought this cd is the CD couple months back. Cant believe waited all this time around their album and support this amazing duo; and would have to take each Dredg album individually; they are each thier own masterpiece of modern rock/prog/post-rock/whatever! definitely on the whole time going wow.one more thing; if you're so talented and know what's good and what's not. believe this album it is just an all around me. Is this what you are reading about this soundtrack being terrible and it's not worth the money they charge for it.... do yourself huge part in making choice. to recap: (1) listen to as race of beings capable of rising to the max' and 'payin' the dues' this band to see this band to see Rupert Hine's masterful production value as selective music listner dredg is mainstream? No; it is little stale as of late. Daon't get me wrong; I'm an electronic dance music fan through through; just lately there hasn't been anything from Black Cherry; this time around their album has perfect voice for this for so long; yet here it was directly out there for all of us that have this to tide me over until the full length album when it is in this release is synth-pop track like it alot and have seen them live in concert. This was the complete lack of brushstrokes/movements. It's lot more straight forward as far as songs go. It sounds snotty and is kinda funny. The album never loses its power from Battersea to Milk. Cookies; anyone?</td><td>0.867</td></tr><tr><td>9955</td><td>Excellent design. Its the first year and one of these. highly recommend this to protect your laptop as soon as you plug the charger in; so you don't have to play the plug/unplug game every time have on the brick). The main difference is that the unit has given me no problems. do miss the little light on my 15 aluminum PowerBook G4 15. As has been sublime. The cord reaches further; and the plastic tabs on the reviews. Some people seem to be quite durable as well. I'm just happy got this after the cable split open like my old G3 adapter with an even uglier one but was very happy to see it; would on one of these. highly recommend this over Apple's adapter based on price alone.</td><td>0.822</td></tr><tr><td>16529</td><td>great idea! love this sauce whisk. It's comfortable to use; easy to clean.</td><td>0.995</td></tr><tr><td>1019</td><td>one word: amazing. if you liked their progression from leitmotif to el cielo;well this is one of my favorites of all time.</td><td>0.973</td></tr><tr><td>2260</td><td>You've got to love company that send you product that is affordable and reliable. bonus is that it isn't like the apple adaptor and does it get as hot as Apple's. actually like it better than the ones made by mac.It seems so much more over Apple's when traveling; as its longer cord is about as small as it is officially specified to also work with 3rd; still have an equally good (or better) product like Macally powerbook Ibook ac adapter? purchased this surge protector for my daughter when her Mac-made original AC adapter. This adapter may not be happier. it seems much more expensive) and works great.</td><td>0.944</td></tr></table>"
                    },
                    "metadata": {}
                }
            ],
            "execution_count": 14
        },
        {
            "cell_type": "markdown",
            "source": [
                "## Natural Language Understanding in Java\r\n",
                "\r\n",
                "Here, we used Azure Cognitive Services, specifically LUIS, to create a custom language understanding model so we can identify intents and entities within free text, like delivery instructions. "
            ],
            "metadata": {
                "azdata_cell_guid": "6acfc28a-17e1-4ce8-a0ef-c4dc1ddc9359"
            }
        },
        {
            "cell_type": "code",
            "source": [
                "USE WideWorldImporters;\r\n",
                "\r\n",
                "SELECT TOP(10) convert(int, OrderID) as ID, DeliveryInstructions \r\n",
                "FROM dbo.Deliveries"
            ],
            "metadata": {
                "azdata_cell_guid": "af2e3283-2510-421b-bf6f-3fc8e15b8fc2"
            },
            "outputs": [
                {
                    "output_type": "display_data",
                    "data": {
                        "text/html": "(10 rows affected)"
                    },
                    "metadata": {}
                },
                {
                    "output_type": "display_data",
                    "data": {
                        "text/html": "Total execution time: 00:00:00.0126667"
                    },
                    "metadata": {}
                },
                {
                    "output_type": "execute_result",
                    "execution_count": 15,
                    "data": {
                        "application/vnd.dataresource+json": {
                            "schema": {
                                "fields": [
                                    {
                                        "name": "ID"
                                    },
                                    {
                                        "name": "DeliveryInstructions"
                                    }
                                ]
                            },
                            "data": [
                                {
                                    "0": "1",
                                    "1": "headed to houston from Detroit Sunday 12 PM"
                                },
                                {
                                    "0": "2",
                                    "1": "from: new york. To: atlanta Day: Monday 3PM"
                                },
                                {
                                    "0": "3",
                                    "1": "Arriving from new york in seattle on Thurs at noon"
                                },
                                {
                                    "0": "4",
                                    "1": "Seattle to san francisco tues 5pm"
                                },
                                {
                                    "0": "5",
                                    "1": "going to detroit from los angeles, on monday at 9am"
                                },
                                {
                                    "0": "6",
                                    "1": "Deliver from seattle location to Detroit on saturday at 8PM. "
                                },
                                {
                                    "0": "7",
                                    "1": "Faced delays, arriving 1 pm Friday from Detroit. Destination atlanta"
                                },
                                {
                                    "0": "8",
                                    "1": "Destination is miami at 4pm Sunday. Beginning in chicago "
                                },
                                {
                                    "0": "9",
                                    "1": "Leaving and arriving monday at 11:30AM, miami to atlanta"
                                },
                                {
                                    "0": "10",
                                    "1": "going from San Francisco to chicago, Saturday 10 am"
                                }
                            ]
                        },
                        "text/html": "<table><tr><th>ID</th><th>DeliveryInstructions</th></tr><tr><td>1</td><td>headed to houston from Detroit Sunday 12 PM</td></tr><tr><td>2</td><td>from: new york. To: atlanta Day: Monday 3PM</td></tr><tr><td>3</td><td>Arriving from new york in seattle on Thurs at noon</td></tr><tr><td>4</td><td>Seattle to san francisco tues 5pm</td></tr><tr><td>5</td><td>going to detroit from los angeles, on monday at 9am</td></tr><tr><td>6</td><td>Deliver from seattle location to Detroit on saturday at 8PM. </td></tr><tr><td>7</td><td>Faced delays, arriving 1 pm Friday from Detroit. Destination atlanta</td></tr><tr><td>8</td><td>Destination is miami at 4pm Sunday. Beginning in chicago </td></tr><tr><td>9</td><td>Leaving and arriving monday at 11:30AM, miami to atlanta</td></tr><tr><td>10</td><td>going from San Francisco to chicago, Saturday 10 am</td></tr></table>"
                    },
                    "metadata": {}
                }
            ],
            "execution_count": 15
        },
        {
            "cell_type": "code",
            "source": [
                "CREATE EXTERNAL LIBRARY luis\r\n",
                "FROM (CONTENT = '/home/vmuser/luis/luis.jar') \r\n",
                "WITH (LANGUAGE = 'Java'); "
            ],
            "metadata": {
                "azdata_cell_guid": "9310027d-f20a-41bf-b486-fd7a87a0ad00"
            },
            "outputs": [
                {
                    "output_type": "display_data",
                    "data": {
                        "text/html": "Commands completed successfully."
                    },
                    "metadata": {}
                },
                {
                    "output_type": "display_data",
                    "data": {
                        "text/html": "Total execution time: 00:00:00.1408482"
                    },
                    "metadata": {}
                }
            ],
            "execution_count": 18
        },
        {
            "cell_type": "code",
            "source": [
                "USE WideWorldImporters;\r\n",
                "\r\n",
                "EXEC sp_execute_external_script\r\n",
                "  @language = N'Java'\r\n",
                ", @script=N'pkg.luisSample'\r\n",
                ", @input_data_1 = N'SELECT TOP(10) convert(int, OrderID) as ID, DeliveryInstructions \r\n",
                "FROM dbo.Deliveries'\r\n",
                ", @parallel = 0\r\n",
                "with result sets ((ID int, DeliveryInstructions nvarchar(max), Origin nvarchar(50), Destination nvarchar(50), DeliveryDateTime nvarchar(50)))"
            ],
            "metadata": {
                "azdata_cell_guid": "1b6f12b0-ebf1-4e61-872c-8baf057eb531"
            },
            "outputs": [
                {
                    "output_type": "display_data",
                    "data": {
                        "text/html": "(10 rows affected)"
                    },
                    "metadata": {}
                },
                {
                    "output_type": "display_data",
                    "data": {
                        "text/html": "Total execution time: 00:00:17.9506549"
                    },
                    "metadata": {}
                },
                {
                    "output_type": "execute_result",
                    "execution_count": 19,
                    "data": {
                        "application/vnd.dataresource+json": {
                            "schema": {
                                "fields": [
                                    {
                                        "name": "ID"
                                    },
                                    {
                                        "name": "DeliveryInstructions"
                                    },
                                    {
                                        "name": "Origin"
                                    },
                                    {
                                        "name": "Destination"
                                    },
                                    {
                                        "name": "DeliveryDateTime"
                                    }
                                ]
                            },
                            "data": [
                                {
                                    "0": "1",
                                    "1": "headed to houston from Detroit Sunday 12 PM",
                                    "2": "detroit",
                                    "3": "houston",
                                    "4": "2019-06-09 12:00:00"
                                },
                                {
                                    "0": "2",
                                    "1": "from: new york. To: atlanta Day: Monday 3PM",
                                    "2": "new york",
                                    "3": "atlanta",
                                    "4": "2019-06-03 15:00:00"
                                },
                                {
                                    "0": "3",
                                    "1": "Arriving from new york in seattle on Thurs at noon",
                                    "2": "new york",
                                    "3": "seattle",
                                    "4": "2019-06-06 12:00:00"
                                },
                                {
                                    "0": "4",
                                    "1": "Seattle to san francisco tues 5pm",
                                    "2": "seattle",
                                    "3": "san francisco",
                                    "4": "2019-06-04 17:00:00"
                                },
                                {
                                    "0": "5",
                                    "1": "going to detroit from los angeles, on monday at 9am",
                                    "2": "los angeles",
                                    "3": "detroit",
                                    "4": "2019-06-03 09:00:00"
                                },
                                {
                                    "0": "6",
                                    "1": "Deliver from seattle location to Detroit on saturday at 8PM. ",
                                    "2": "seattle",
                                    "3": "detroit",
                                    "4": "2019-06-08 20:00:00"
                                },
                                {
                                    "0": "7",
                                    "1": "Faced delays, arriving 1 pm Friday from Detroit. Destination atlanta",
                                    "2": "detroit",
                                    "3": "atlanta",
                                    "4": "2019-06-07 13:00:00"
                                },
                                {
                                    "0": "8",
                                    "1": "Destination is miami at 4pm Sunday. Beginning in chicago ",
                                    "2": "chicago",
                                    "3": "miami",
                                    "4": "2019-06-09 16:00:00"
                                },
                                {
                                    "0": "9",
                                    "1": "Leaving and arriving monday at 11:30AM, miami to atlanta",
                                    "2": "miami",
                                    "3": "atlanta",
                                    "4": "2019-06-03 11:30:00"
                                },
                                {
                                    "0": "10",
                                    "1": "going from San Francisco to chicago, Saturday 10 am",
                                    "2": "chicago",
                                    "3": "san francisco",
                                    "4": "2019-06-08 10:00:00"
                                }
                            ]
                        },
                        "text/html": "<table><tr><th>ID</th><th>DeliveryInstructions</th><th>Origin</th><th>Destination</th><th>DeliveryDateTime</th></tr><tr><td>1</td><td>headed to houston from Detroit Sunday 12 PM</td><td>detroit</td><td>houston</td><td>2019-06-09 12:00:00</td></tr><tr><td>2</td><td>from: new york. To: atlanta Day: Monday 3PM</td><td>new york</td><td>atlanta</td><td>2019-06-03 15:00:00</td></tr><tr><td>3</td><td>Arriving from new york in seattle on Thurs at noon</td><td>new york</td><td>seattle</td><td>2019-06-06 12:00:00</td></tr><tr><td>4</td><td>Seattle to san francisco tues 5pm</td><td>seattle</td><td>san francisco</td><td>2019-06-04 17:00:00</td></tr><tr><td>5</td><td>going to detroit from los angeles, on monday at 9am</td><td>los angeles</td><td>detroit</td><td>2019-06-03 09:00:00</td></tr><tr><td>6</td><td>Deliver from seattle location to Detroit on saturday at 8PM. </td><td>seattle</td><td>detroit</td><td>2019-06-08 20:00:00</td></tr><tr><td>7</td><td>Faced delays, arriving 1 pm Friday from Detroit. Destination atlanta</td><td>detroit</td><td>atlanta</td><td>2019-06-07 13:00:00</td></tr><tr><td>8</td><td>Destination is miami at 4pm Sunday. Beginning in chicago </td><td>chicago</td><td>miami</td><td>2019-06-09 16:00:00</td></tr><tr><td>9</td><td>Leaving and arriving monday at 11:30AM, miami to atlanta</td><td>miami</td><td>atlanta</td><td>2019-06-03 11:30:00</td></tr><tr><td>10</td><td>going from San Francisco to chicago, Saturday 10 am</td><td>chicago</td><td>san francisco</td><td>2019-06-08 10:00:00</td></tr></table>"
                    },
                    "metadata": {}
                }
            ],
            "execution_count": 19
        }
    ]
}